{
 "cells": [
  {
   "cell_type": "markdown",
   "metadata": {},
   "source": [
    "# Estructuras de control de flujo"
   ]
  },
  {
   "cell_type": "markdown",
   "metadata": {},
   "source": [
    "### If sencillo"
   ]
  },
  {
   "cell_type": "raw",
   "metadata": {},
   "source": [
    "if condicion :\n",
    "    instuccion(es)\n",
    "  \n",
    "donde condicion es una expresión que resulta en un booleano  "
   ]
  },
  {
   "cell_type": "code",
   "execution_count": null,
   "metadata": {},
   "outputs": [],
   "source": [
    "numero=int(input(\"da un numero\"))"
   ]
  },
  {
   "cell_type": "code",
   "execution_count": null,
   "metadata": {},
   "outputs": [],
   "source": [
    "#si numero es negativo convertir en positivo\n",
    "if numero<0 :\n",
    "   numero=-1*numero\n",
    "print(numero)"
   ]
  },
  {
   "cell_type": "markdown",
   "metadata": {},
   "source": [
    "### If en una sola linea"
   ]
  },
  {
   "cell_type": "code",
   "execution_count": null,
   "metadata": {},
   "outputs": [],
   "source": [
    "#short hand o manera corta\n",
    "if numero<0: numero*=-1\n",
    "print(numero)"
   ]
  },
  {
   "cell_type": "raw",
   "metadata": {},
   "source": [
    "if condicion :\n",
    "   instuccion(es)\n",
    "else:\n",
    "   instuccion(es)"
   ]
  },
  {
   "cell_type": "code",
   "execution_count": null,
   "metadata": {},
   "outputs": [],
   "source": [
    "#si el salario mensual es mayor a 102.68*30 paga 10% impuesto\n",
    "salario=float(input(\"da el salario \"))\n",
    "if salario>102.68*30 :\n",
    "    impuesto=salario*.10\n",
    "    print(\"paga:\",impuesto)\n",
    "else:\n",
    "    print(\"no paga impuesto\")"
   ]
  },
  {
   "cell_type": "code",
   "execution_count": null,
   "metadata": {},
   "outputs": [],
   "source": [
    "#forma corta\n",
    "impuesto=salario*.10 if salario>102.68*30 else 0\n",
    "print(impuesto)"
   ]
  },
  {
   "cell_type": "code",
   "execution_count": null,
   "metadata": {},
   "outputs": [],
   "source": [
    "# otro corto\n",
    "a=-100\n",
    "print(\"positivo\") if a>0 else print(\"negativo\")"
   ]
  },
  {
   "cell_type": "markdown",
   "metadata": {},
   "source": [
    "### If anidados"
   ]
  },
  {
   "cell_type": "raw",
   "metadata": {},
   "source": [
    "if condicion :\n",
    "   instuccion(es)\n",
    "elif condicion2 :\n",
    "  instuccion(es)\n",
    "  ....\n",
    "else:\n",
    "   instuccion(es)"
   ]
  },
  {
   "cell_type": "markdown",
   "metadata": {},
   "source": [
    "En una escuela se paga de acuerdo al grado del profesor:\n",
    "- 100 pesos la hora si tiene licenciatura\n",
    "- 200 pesos la hora si tiene maestría\n",
    "- 300 pesos la hora si tiene doctorado\n",
    "\n",
    "Dadas las horas impartidas de clase despliega cuanto hay que pagarle"
   ]
  },
  {
   "cell_type": "code",
   "execution_count": 2,
   "metadata": {},
   "outputs": [
    {
     "name": "stdout",
     "output_type": "stream",
     "text": [
      "Horas impartidas: 10\n",
      "grado doc\n",
      "3000\n"
     ]
    }
   ],
   "source": [
    "horas=int(input(\"Horas impartidas: \"))\n",
    "grado=input(\"grado \")\n",
    "if grado=='lic':\n",
    "    pago=horas*100\n",
    "elif grado=='mae':\n",
    "    pago=horas*200\n",
    "else:\n",
    "    pago=horas*300\n",
    "print(pago)"
   ]
  },
  {
   "cell_type": "markdown",
   "metadata": {},
   "source": [
    "##### Ejercicio: Corrige el problema anterior para que imprima mensaje de error si no inserta grado válido"
   ]
  },
  {
   "cell_type": "markdown",
   "metadata": {},
   "source": [
    "### Operadores lógicos and or y not"
   ]
  },
  {
   "cell_type": "code",
   "execution_count": 4,
   "metadata": {},
   "outputs": [
    {
     "name": "stdout",
     "output_type": "stream",
     "text": [
      "2\n",
      "3\n",
      "4\n"
     ]
    }
   ],
   "source": [
    "a = int(input())\n",
    "b = int(input())\n",
    "c = int(input())\n",
    "if a > b and b > c:\n",
    "    print(\"c es la mayor de los tres\")"
   ]
  },
  {
   "cell_type": "code",
   "execution_count": 6,
   "metadata": {},
   "outputs": [
    {
     "name": "stdout",
     "output_type": "stream",
     "text": [
      "Estacion del año: verano\n",
      "seguro hace calor\n"
     ]
    }
   ],
   "source": [
    "estacion=input(\"Estacion del año: \")\n",
    "if estacion==\"primavera\" or estacion==\"verano\" :\n",
    "    print(\"seguro hace calor\")\n",
    "else:\n",
    "    print(\"probablemente hace frío\")"
   ]
  },
  {
   "cell_type": "markdown",
   "metadata": {},
   "source": [
    "**Ejercicios:**\n",
    "\n",
    "1. Repaso: Escribe un programa que solicite un importe de compra en dólares y un porcentaje de descuento (entre 0 y 100). Aplique el porcentaje de descuento, después aplique el IVA del 15% e imprima el importe total a pagar en euros.\n",
    "\n",
    "2. En una fábrica se le paga al empleado de acuerdo a las piezas que fabrica al día. El mínimo número de piezas fabricadas requerido es de 100 piezas con lo que gna el sueldo base de 250 pesos. Si el empleado hace menos de las 100 piezas se le deben descontar 50 pesos. Sin embargo, si hace más de 100 piezas se le dan 20 pesos más por cada 10 piezas excedentes.\n",
    "\n",
    "3. Diseña un algoritmo que al recibir como datos tres números reales que representan los lados de un probable tríangulo, determine si esos lados corresponden a un triángulo. En caso de serlo, además de escribir el área correspondiente compruebe si el triángulo es equilátero, isósceles o escaleno. (TIP: ver https://es.wikihow.com/saber-si-hay-un-tri%C3%A1ngulo-teniendo-las-medidas-de-tres-lados )\n",
    "\n",
    "4. Realiza todos los ejercicios de Python if...else de la página https://www.w3schools.com/python/python_conditions.asp\n",
    "   Resuelve esta pregunta ¿para qué sirve el pass?  Diseña un ejemplo en el que sea útil este comando.\n"
   ]
  },
  {
   "cell_type": "code",
   "execution_count": null,
   "metadata": {},
   "outputs": [],
   "source": []
  }
 ],
 "metadata": {
  "kernelspec": {
   "display_name": "Python 3",
   "language": "python",
   "name": "python3"
  },
  "language_info": {
   "codemirror_mode": {
    "name": "ipython",
    "version": 3
   },
   "file_extension": ".py",
   "mimetype": "text/x-python",
   "name": "python",
   "nbconvert_exporter": "python",
   "pygments_lexer": "ipython3",
   "version": "3.7.3"
  }
 },
 "nbformat": 4,
 "nbformat_minor": 2
}
