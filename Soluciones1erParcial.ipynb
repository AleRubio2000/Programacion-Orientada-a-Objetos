{
 "cells": [
  {
   "cell_type": "markdown",
   "metadata": {},
   "source": [
    "# Soluciones del Examen del Primer Parcial"
   ]
  },
  {
   "cell_type": "markdown",
   "metadata": {},
   "source": [
    "## Examen Uno"
   ]
  },
  {
   "cell_type": "markdown",
   "metadata": {},
   "source": [
    "1. Se tira un dado 100 veces y es necesario hacer un programa para reportar cuantas veces salió el 2 y el 4. Valida que la entrada del tiro sea entre 1 y 6."
   ]
  },
  {
   "cell_type": "code",
   "execution_count": null,
   "metadata": {},
   "outputs": [],
   "source": [
    "#Daniel Fuhrken\n",
    "i=0\n",
    "conteo2=0\n",
    "conteo4=0\n",
    "while i<100:\n",
    "    num=int(input(\"Dame el número que te salió en el dado:\"))\n",
    "    while True:\n",
    "        if num in range (1,7,1):\n",
    "            break\n",
    "        else:\n",
    "            num=int(input(\"Número no válido, escribe un numero válido entre 1 y 6:\"))\n",
    "    if num == 2:\n",
    "        conteo2+=1\n",
    "        i+=1\n",
    "    elif num == 4:   \n",
    "        conteo4+=1\n",
    "        i+=1\n",
    "    else:\n",
    "        i+=1\n",
    "print(\"El número \\\"2\\\" salió:\",conteo2,\"vez/veces\",\"\\nEl número \\\"4\\\" salió:\",conteo4,\"vez/veces\")"
   ]
  },
  {
   "cell_type": "code",
   "execution_count": null,
   "metadata": {},
   "outputs": [],
   "source": [
    "#Marisol Ramos\n",
    "a = b = 0\n",
    "i=1\n",
    "while i<101:\n",
    "    print(\"Tiro \", i)\n",
    "    n=int(input(\"¿Qué número salió? \"))\n",
    "    while n<1 or n>6:\n",
    "        n=int(input(\"Número no valido, vuelve a intentar: \"))\n",
    "    if n==4:\n",
    "        b+=1      \n",
    "    if n==2:\n",
    "        a+=1\n",
    "    i+=1\n",
    "print(\"Números dos: \", a, \"        Números cuatro: \", b)"
   ]
  },
  {
   "cell_type": "markdown",
   "metadata": {},
   "source": [
    "2. Escribe un función que reciba una frase del usuario y la regrese en mayúsculas y minúsculas"
   ]
  },
  {
   "cell_type": "code",
   "execution_count": null,
   "metadata": {},
   "outputs": [],
   "source": [
    "#Areli Castillo\n",
    "def funcion(x):\n",
    "    h=x.upper()\n",
    "    i=x.lower()\n",
    "    return(\"mayusculas: \",h,\" minusculas: \" , i) \n",
    "\n",
    "palabra=input(\"Frase: \")\n",
    "print(funcion(palabra))"
   ]
  },
  {
   "cell_type": "code",
   "execution_count": null,
   "metadata": {},
   "outputs": [],
   "source": [
    "#Daniel Fuhrken\n",
    "def minuscula_mayuscula (frase):\n",
    "    frase_mayuscula=frase.upper()\n",
    "    frase_minuscula=frase.lower()\n",
    "    return frase_mayuscula,frase_minuscula\n",
    "\n",
    "oracion=input(\"Dame una frase:\")\n",
    "mayus,minus=minuscula_mayuscula(oracion)\n",
    "print(\"La frase en mayúsculas es:\",mayus,\"\\nLa frase en minusculas es:\",minus)"
   ]
  },
  {
   "cell_type": "markdown",
   "metadata": {},
   "source": [
    "3. Escriba una función que tome una lista de palabras y devuelva la longitud de la más larga."
   ]
  },
  {
   "cell_type": "code",
   "execution_count": null,
   "metadata": {},
   "outputs": [],
   "source": [
    "#Marisol Ramos\n",
    "def encuentra(lista):\n",
    "    l=0\n",
    "    for p in lista:\n",
    "        if len(p)>l:\n",
    "            l=len(p)\n",
    "    return l\n",
    "\n",
    "print(\"Crea una lista de palabras.\")\n",
    "v=int(input(\"Número de palabras a ingresar: \"))\n",
    "lista=[]\n",
    "while v>0:\n",
    "    lista.append(input(\"Palabra: \"))\n",
    "    v-=1\n",
    "print(\"La palabra más larga es de \", encuentra(lista))"
   ]
  },
  {
   "cell_type": "markdown",
   "metadata": {},
   "source": [
    "## Examen Dos"
   ]
  },
  {
   "cell_type": "markdown",
   "metadata": {},
   "source": [
    "1.  Función que imprime y suma la serie de números múltiplos hasta un n dado. La función debe recibir n, imprimir la serie y devolver la suma. Que el número n sea positivo y menor a 1000."
   ]
  },
  {
   "cell_type": "code",
   "execution_count": 8,
   "metadata": {},
   "outputs": [
    {
     "name": "stdout",
     "output_type": "stream",
     "text": [
      "Dame un número positivo menor a 1000: -2\n",
      "De un número válido\n",
      "Dame un número positivo menor a 1000: 50\n",
      "0\n",
      "5\n",
      "10\n",
      "15\n",
      "20\n",
      "25\n",
      "30\n",
      "35\n",
      "40\n",
      "45\n",
      "\n",
      "La suma es de: 225\n"
     ]
    }
   ],
   "source": [
    "def suma (n):\n",
    "    s=0\n",
    "    for serie in range(0,n,5):\n",
    "        print(serie)\n",
    "        s = s +serie\n",
    "    return s\n",
    "\n",
    "while True:\n",
    "    n = int(input('Dame un número positivo menor a 1000: '))\n",
    "    if n>=0 and n<=1000:\n",
    "        break\n",
    "    else:\n",
    "        print('De un número válido')\n",
    "\n",
    "print('\\nLa suma es de:',suma(n))"
   ]
  },
  {
   "cell_type": "code",
   "execution_count": 7,
   "metadata": {},
   "outputs": [
    {
     "name": "stdout",
     "output_type": "stream",
     "text": [
      "0\n",
      "5\n",
      "10\n",
      "15\n"
     ]
    }
   ],
   "source": [
    " for i in range(0,20,5):\n",
    "    print(i)"
   ]
  },
  {
   "cell_type": "code",
   "execution_count": 2,
   "metadata": {},
   "outputs": [
    {
     "name": "stdout",
     "output_type": "stream",
     "text": [
      "Dame un número positivo menor a 1000: -2\n",
      "De un número válido\n",
      "Dame un número positivo menor a 1000: 2222222\n",
      "De un número válido\n",
      "Dame un número positivo menor a 1000: 40\n"
     ]
    }
   ],
   "source": [
    "while True:\n",
    "    n = int(input('Dame un número positivo menor a 1000: '))\n",
    "    if n>=0 and n<=1000:\n",
    "        break\n",
    "    else:\n",
    "        print('De un número válido')"
   ]
  },
  {
   "cell_type": "markdown",
   "metadata": {},
   "source": [
    "2. Función que reciba lista de palabras y las imprima en ordenada"
   ]
  },
  {
   "cell_type": "code",
   "execution_count": 3,
   "metadata": {},
   "outputs": [
    {
     "name": "stdout",
     "output_type": "stream",
     "text": [
      "¿Cuántos valores desea agregar?: 3\n",
      "Ingrese una palabra: lkjlfjl\n",
      "Ingrese una palabra: asdadads\n",
      "Ingrese una palabra: bbbb\n",
      "['asdadads', 'bbbb', 'lkjlfjl']\n"
     ]
    }
   ],
   "source": [
    "#Eduardo López \n",
    "def Cadenas (frase):\n",
    "    frase.sort()\n",
    "    print(frase)\n",
    "    \n",
    "lista = []    \n",
    "valores = int(input(\"¿Cuántos valores desea agregar?: \"))\n",
    "for j in range(valores):\n",
    "    ingreso = input(\"Ingrese una palabra: \")\n",
    "    lista.append(ingreso)\n",
    "    \n",
    "Cadenas(lista)  "
   ]
  },
  {
   "cell_type": "code",
   "execution_count": 13,
   "metadata": {
    "scrolled": true
   },
   "outputs": [
    {
     "name": "stdout",
     "output_type": "stream",
     "text": [
      "Escribe una palabra: hola como estas\n",
      "La palabra al revés es:  satse omoc aloh\n"
     ]
    }
   ],
   "source": [
    "def al_reves(palabra):\n",
    "    reves=palabra[::-1]\n",
    "    return reves\n",
    "    \n",
    "palabra=input(\"Escribe una palabra: \")\n",
    "nuevapalabra=al_reves(palabra)\n",
    "print(\"La palabra al revés es: \",nuevapalabra)"
   ]
  },
  {
   "cell_type": "code",
   "execution_count": null,
   "metadata": {},
   "outputs": [],
   "source": [
    "#Daniel LLamas\n",
    "def ordenar (lista):\n",
    "    lista.sort()\n",
    "    print(lista)\n",
    "    \n",
    "lista=['hola','ana','aatón','amigo','música']\n",
    "ordenar(lista)"
   ]
  },
  {
   "cell_type": "markdown",
   "metadata": {},
   "source": [
    "3. Función que reciba un correo y regrese por separado el nombre del dominio y de usuario."
   ]
  },
  {
   "cell_type": "code",
   "execution_count": null,
   "metadata": {},
   "outputs": [],
   "source": [
    "#Francisco Duran\n",
    "def direcc(correo):\n",
    "    m=0\n",
    "    for n in correo:\n",
    "        if n== \"@\":\n",
    "            usuario=correo[0:m]\n",
    "            dominio=correo[(m+1):]\n",
    "            break\n",
    "        else:\n",
    "            m=m+1\n",
    "    return usuario,dominio\n",
    "\n",
    "\n",
    "correo=(input(\"Dirección de correo:\"))\n",
    "x,y=direcc(correo)\n",
    "print(x)\n",
    "print(y)"
   ]
  },
  {
   "cell_type": "code",
   "execution_count": 12,
   "metadata": {},
   "outputs": [
    {
     "name": "stdout",
     "output_type": "stream",
     "text": [
      "Escribe la dirección de correo: sesfdsdfsfdsfd@jjjjjjjjjj\n",
      "El nombre es:  sesfdsdfsfdsfd\n",
      "El dominio es:  jjjjjjjjjj\n"
     ]
    },
    {
     "data": {
      "text/plain": [
       "('sesfdsdfsfdsfd', 'jjjjjjjjjj')"
      ]
     },
     "execution_count": 12,
     "metadata": {},
     "output_type": "execute_result"
    }
   ],
   "source": [
    "#francisco Pérez\n",
    "def correo (x):\n",
    "    f=0\n",
    "    f=x.find(\"@\")\n",
    "    y = x[:f]\n",
    "    z = x[f+1:]\n",
    "    print (\"El nombre es: \",y)\n",
    "    print (\"El dominio es: \",z)\n",
    "    return (y,z)\n",
    "y=\"\"\n",
    "z=\"\"\n",
    "x=input(\"Escribe la dirección de correo: \")\n",
    "correo (x)"
   ]
  },
  {
   "cell_type": "code",
   "execution_count": null,
   "metadata": {},
   "outputs": [],
   "source": [
    "#Daniel Llamas\n",
    "def correo(correousuario):\n",
    "    for i in range(0,len(correousuario),1):\n",
    "        if correousuario[i]==\"@\":\n",
    "            indarr=i\n",
    "    usuario=correousuario[0:indarr]\n",
    "    dominio=correousuario[indarr+1:]\n",
    "    print(\"El usuario es: \",usuario)\n",
    "    print(\"El dominio es: \",dominio)\n",
    "    \n",
    "correousuario=input(\"Ingresa tu correo: \")\n",
    "correo(correousuario)"
   ]
  },
  {
   "cell_type": "markdown",
   "metadata": {},
   "source": [
    "## Examen Tres"
   ]
  },
  {
   "cell_type": "markdown",
   "metadata": {},
   "source": [
    "1.\tDada la primera letra del estilo y el tiempo que hizo un nadador indica si rompió o no el record mundial para la prueba de 100 dada en la tabla. Valida la entrada de estilo"
   ]
  },
  {
   "cell_type": "code",
   "execution_count": null,
   "metadata": {},
   "outputs": [],
   "source": [
    "#Examen 3\n",
    "#1. Santiago Romagosa\n",
    "rp=1\n",
    "while rp==1:\n",
    "    print (\"Por favor indica con la primera letra del nombre, el estilo qu nado el participante \")\n",
    "    print(\"\"\"(D)dorso\n",
    "    (P)pecho\n",
    "    (L)libre\n",
    "    (M)mariposa\"\"\")\n",
    "    estilo=str(input())\n",
    "    if (estilo==\"D\"):\n",
    "        print(\"Cual fue el tiempo del nadador\")\n",
    "        temp=float(input())\n",
    "        if (temp<52.31):\n",
    "            print(\"El nadador supero el record mundial\")\n",
    "        else:\n",
    "            print(\"Lamentablemente no logro nada\")\n",
    "        rp=rp+1\n",
    "    elif(estilo==\"P\"):\n",
    "        print(\"Cual fue el tiempo del nadador\")\n",
    "        temp=float(input())\n",
    "        if (temp<58.46):\n",
    "            print(\"El nadador supero el record mundial\")\n",
    "        else:\n",
    "            print(\"Lamentablemente no logro nada\")\n",
    "        rp=rp+1\n",
    "    elif(estilo==\"L\"):\n",
    "        print(\"Cual fue el tiempo del nadador\")\n",
    "        temp=float(input())\n",
    "        if (temp<48.19):\n",
    "            print(\"El nadador supero el record mundial\")\n",
    "        else:\n",
    "            print(\"Lamentablemente no logro nada\")\n",
    "        rp=rp+1\n",
    "    elif(estilo==\"M\"):\n",
    "        print(\"Cual fue el tiempo del nadador\")\n",
    "        temp=float(input())\n",
    "        if (temp<50.22):\n",
    "            print(\"El nadador supero el record mundial\")\n",
    "        else:\n",
    "            print(\"Lamentablemente no logro nada\")\n",
    "        rp=rp+1\n",
    "    else:\n",
    "        print(\"Escogiste una categoria no existente\")"
   ]
  },
  {
   "cell_type": "code",
   "execution_count": null,
   "metadata": {},
   "outputs": [],
   "source": [
    "#María José Serralde\n",
    "while True:\n",
    "    estilo=input(\"¿Cuál es el estilo? (D) para dorso, (P) para pecho, (L) para libre y (M) para mariposa. \")\n",
    "    estilo=estilo.upper()\n",
    "    if estilo == \"D\" or estilo == \"P\" or estilo == \"L\" or estilo == \"M\":\n",
    "        break\n",
    "    else:\n",
    "        print(\"Estilo ingresado incorrecto, vuelve a intentarlo.\")\n",
    "    print(\" \")\n",
    "print(\"Estilo ingresado correcto.\")\n",
    "print(\"\")\n",
    "tiempo=float(input(\"¿Cuánto tiempo hizo el nadador? (SEG.)\"))\n",
    "if estilo==\"D\":\n",
    "    if tiempo<52.31:\n",
    "        print(\"Rompió el record mundial.\")\n",
    "    else:\n",
    "        print(\"No rompió el record mundial.\")\n",
    "if estilo==\"P\":\n",
    "    if tiempo<58.46:\n",
    "        print(\"Rompió el record mundial.\")\n",
    "    else:\n",
    "        print(\"No rompió el record mundial.\")\n",
    "if estilo==\"L\":\n",
    "    if tiempo<48.19:\n",
    "        print(\"Rompió el record mundial.\")\n",
    "    else:\n",
    "        print(\"No rompió el record mundial.\")\n",
    "if estilo==\"M\":\n",
    "    if tiempo<50.22:\n",
    "        print(\"Rompió el record mundial.\")\n",
    "    else:\n",
    "        print(\"No rompió el record mundial.\")"
   ]
  },
  {
   "cell_type": "markdown",
   "metadata": {},
   "source": [
    "2.\tEscriba una función que tome una lista de palabras e indique cuántas veces salió la palabra \"de\"."
   ]
  },
  {
   "cell_type": "code",
   "execution_count": null,
   "metadata": {},
   "outputs": [],
   "source": [
    "#María José Serralde\n",
    "def funcion_lista(lista):\n",
    "    cont=0\n",
    "    for x in lista:\n",
    "        if x==\"de\":\n",
    "            cont=cont+1\n",
    "    return cont\n",
    "            \n",
    "\n",
    "lista=[]\n",
    "n=int(input(\"¿Cuántas palabras va a ingresar a la lista?\"))\n",
    "for x in range(n):\n",
    "    pal=input(\"Escribe una palabra: \")\n",
    "    lista.append(pal)\n",
    "print(\"La lista quedo asi: \")\n",
    "print(lista)\n",
    "contador=funcion_lista(lista)\n",
    "print(\" \")\n",
    "print(\"LA PALABRA de APARECE EN LA LISTA \", contador,\" VECES.\")"
   ]
  },
  {
   "cell_type": "markdown",
   "metadata": {},
   "source": [
    "3.\tEscribe una función que lea una palabra y la imprima al revés."
   ]
  },
  {
   "cell_type": "code",
   "execution_count": null,
   "metadata": {},
   "outputs": [],
   "source": [
    "#3 examen 3\n",
    "#Santiago Romagosa\n",
    "def reversita(palabra):\n",
    "    for x in range(len(palabra)):\n",
    "        reverson=palabra[::-1]\n",
    "    print (reverson)\n",
    "print(\" ¿Cual es la palabra que quieres voltear \")\n",
    "palabra=str(input())\n",
    "reversita (palabra)"
   ]
  },
  {
   "cell_type": "code",
   "execution_count": null,
   "metadata": {},
   "outputs": [],
   "source": [
    "#Jesús Villa\n",
    "def Reverse(pal):\n",
    "    newpal=''\n",
    "    for i in reversed(pal):\n",
    "        newpal=newpal+i\n",
    "    print('La palabra ',pal,', al revés se escribe ',newpal)\n",
    "pal=input('Escribe una palabra: ')\n",
    "Reverse(pal)"
   ]
  },
  {
   "cell_type": "code",
   "execution_count": null,
   "metadata": {},
   "outputs": [],
   "source": [
    "#Santiago Hernández\n",
    "def inversa (pal):\n",
    "    num = len(pal)-1\n",
    "    nueva = \"\"\n",
    "    for i in range(len(pal)):\n",
    "        nueva = nueva + pal[num-i]\n",
    "    return nueva\n",
    "palabra = input(\"Dame una palabra: \")\n",
    "inversa(palabra)"
   ]
  }
 ],
 "metadata": {
  "kernelspec": {
   "display_name": "Python 3",
   "language": "python",
   "name": "python3"
  }
 },
 "nbformat": 4,
 "nbformat_minor": 2
}
